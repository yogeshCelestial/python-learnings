{
 "cells": [
  {
   "cell_type": "code",
   "execution_count": 32,
   "metadata": {},
   "outputs": [],
   "source": [
    "import pandas as pd\n",
    "import matplotlib.pyplot as plt\n",
    "import seaborn as sb\n",
    "vikki "
   ]
  },
  {
   "cell_type": "code",
   "execution_count": 20,
   "metadata": {},
   "outputs": [
    {
     "data": {
      "text/html": [
       "<div>\n",
       "<style scoped>\n",
       "    .dataframe tbody tr th:only-of-type {\n",
       "        vertical-align: middle;\n",
       "    }\n",
       "\n",
       "    .dataframe tbody tr th {\n",
       "        vertical-align: top;\n",
       "    }\n",
       "\n",
       "    .dataframe thead th {\n",
       "        text-align: right;\n",
       "    }\n",
       "</style>\n",
       "<table border=\"1\" class=\"dataframe\">\n",
       "  <thead>\n",
       "    <tr style=\"text-align: right;\">\n",
       "      <th></th>\n",
       "      <th>first_name</th>\n",
       "      <th>last_name</th>\n",
       "      <th>left</th>\n",
       "      <th>years</th>\n",
       "      <th>department</th>\n",
       "      <th>promoted_in_last_5yrs</th>\n",
       "      <th>joining_year</th>\n",
       "      <th>left_bool</th>\n",
       "    </tr>\n",
       "  </thead>\n",
       "  <tbody>\n",
       "    <tr>\n",
       "      <th>0</th>\n",
       "      <td>Nancey</td>\n",
       "      <td>Aberdeen</td>\n",
       "      <td>False</td>\n",
       "      <td>5</td>\n",
       "      <td>Engineering</td>\n",
       "      <td>True</td>\n",
       "      <td>2002</td>\n",
       "      <td>0</td>\n",
       "    </tr>\n",
       "    <tr>\n",
       "      <th>1</th>\n",
       "      <td>Forbes</td>\n",
       "      <td>Hadigate</td>\n",
       "      <td>True</td>\n",
       "      <td>9</td>\n",
       "      <td>Engineering</td>\n",
       "      <td>False</td>\n",
       "      <td>1991</td>\n",
       "      <td>1</td>\n",
       "    </tr>\n",
       "    <tr>\n",
       "      <th>2</th>\n",
       "      <td>Jarrett</td>\n",
       "      <td>Alflatt</td>\n",
       "      <td>True</td>\n",
       "      <td>9</td>\n",
       "      <td>Product Management</td>\n",
       "      <td>True</td>\n",
       "      <td>2007</td>\n",
       "      <td>1</td>\n",
       "    </tr>\n",
       "    <tr>\n",
       "      <th>3</th>\n",
       "      <td>Rick</td>\n",
       "      <td>Postance</td>\n",
       "      <td>True</td>\n",
       "      <td>2</td>\n",
       "      <td>Business Development</td>\n",
       "      <td>True</td>\n",
       "      <td>2009</td>\n",
       "      <td>1</td>\n",
       "    </tr>\n",
       "    <tr>\n",
       "      <th>4</th>\n",
       "      <td>Tabb</td>\n",
       "      <td>Sugarman</td>\n",
       "      <td>True</td>\n",
       "      <td>7</td>\n",
       "      <td>Business Development</td>\n",
       "      <td>False</td>\n",
       "      <td>1998</td>\n",
       "      <td>1</td>\n",
       "    </tr>\n",
       "  </tbody>\n",
       "</table>\n",
       "</div>"
      ],
      "text/plain": [
       "  first_name last_name   left  years            department  \\\n",
       "0     Nancey  Aberdeen  False      5           Engineering   \n",
       "1     Forbes  Hadigate   True      9           Engineering   \n",
       "2    Jarrett   Alflatt   True      9    Product Management   \n",
       "3       Rick  Postance   True      2  Business Development   \n",
       "4       Tabb  Sugarman   True      7  Business Development   \n",
       "\n",
       "   promoted_in_last_5yrs  joining_year  left_bool  \n",
       "0                   True          2002          0  \n",
       "1                  False          1991          1  \n",
       "2                   True          2007          1  \n",
       "3                   True          2009          1  \n",
       "4                  False          1998          1  "
      ]
     },
     "execution_count": 20,
     "metadata": {},
     "output_type": "execute_result"
    }
   ],
   "source": [
    "employees = pd.read_csv('./assets/employees_data.csv')\n",
    "employees['left_bool'] = employees['left'].astype(int) # converted to integer\n",
    "employees.head()"
   ]
  },
  {
   "cell_type": "code",
   "execution_count": 34,
   "metadata": {},
   "outputs": [
    {
     "data": {
      "text/plain": [
       "<seaborn.axisgrid.FacetGrid at 0x25e03a13890>"
      ]
     },
     "execution_count": 34,
     "metadata": {},
     "output_type": "execute_result"
    },
    {
     "data": {
      "image/png": "[encoded data removed]",
      "text/plain": [
       "<Figure size 500x500 with 1 Axes>"
      ]
     },
     "metadata": {},
     "output_type": "display_data"
    }
   ],
   "source": [
    "# plt.figure(figsize=(15, 7))\n",
    "sb.displot(employees['years'], kde=True)"
   ]
  },
  {
   "cell_type": "code",
   "execution_count": 27,
   "metadata": {},
   "outputs": [
    {
     "data": {
      "text/html": [
       "<div>\n",
       "<style scoped>\n",
       "    .dataframe tbody tr th:only-of-type {\n",
       "        vertical-align: middle;\n",
       "    }\n",
       "\n",
       "    .dataframe tbody tr th {\n",
       "        vertical-align: top;\n",
       "    }\n",
       "\n",
       "    .dataframe thead th {\n",
       "        text-align: right;\n",
       "    }\n",
       "</style>\n",
       "<table border=\"1\" class=\"dataframe\">\n",
       "  <thead>\n",
       "    <tr style=\"text-align: right;\">\n",
       "      <th></th>\n",
       "      <th>years</th>\n",
       "      <th>joining_year</th>\n",
       "    </tr>\n",
       "  </thead>\n",
       "  <tbody>\n",
       "    <tr>\n",
       "      <th>count</th>\n",
       "      <td>200.000000</td>\n",
       "      <td>200.00000</td>\n",
       "    </tr>\n",
       "    <tr>\n",
       "      <th>mean</th>\n",
       "      <td>5.635000</td>\n",
       "      <td>2000.26500</td>\n",
       "    </tr>\n",
       "    <tr>\n",
       "      <th>std</th>\n",
       "      <td>2.819846</td>\n",
       "      <td>8.71865</td>\n",
       "    </tr>\n",
       "    <tr>\n",
       "      <th>min</th>\n",
       "      <td>1.000000</td>\n",
       "      <td>1965.00000</td>\n",
       "    </tr>\n",
       "    <tr>\n",
       "      <th>25%</th>\n",
       "      <td>3.000000</td>\n",
       "      <td>1994.75000</td>\n",
       "    </tr>\n",
       "    <tr>\n",
       "      <th>50%</th>\n",
       "      <td>6.000000</td>\n",
       "      <td>2001.00000</td>\n",
       "    </tr>\n",
       "    <tr>\n",
       "      <th>75%</th>\n",
       "      <td>8.000000</td>\n",
       "      <td>2008.00000</td>\n",
       "    </tr>\n",
       "    <tr>\n",
       "      <th>max</th>\n",
       "      <td>10.000000</td>\n",
       "      <td>2013.00000</td>\n",
       "    </tr>\n",
       "  </tbody>\n",
       "</table>\n",
       "</div>"
      ],
      "text/plain": [
       "            years  joining_year\n",
       "count  200.000000     200.00000\n",
       "mean     5.635000    2000.26500\n",
       "std      2.819846       8.71865\n",
       "min      1.000000    1965.00000\n",
       "25%      3.000000    1994.75000\n",
       "50%      6.000000    2001.00000\n",
       "75%      8.000000    2008.00000\n",
       "max     10.000000    2013.00000"
      ]
     },
     "execution_count": 27,
     "metadata": {},
     "output_type": "execute_result"
    }
   ],
   "source": [
    "employeesDf.describe()"
   ]
  },
  {
   "cell_type": "code",
   "execution_count": 49,
   "metadata": {},
   "outputs": [
    {
     "data": {
      "text/plain": [
       "([<matplotlib.axis.XTick at 0x25e0909ec10>,\n",
       "  <matplotlib.axis.XTick at 0x25e0918cf50>,\n",
       "  <matplotlib.axis.XTick at 0x25e0918d6d0>,\n",
       "  <matplotlib.axis.XTick at 0x25e0918de50>,\n",
       "  <matplotlib.axis.XTick at 0x25e0918e5d0>,\n",
       "  <matplotlib.axis.XTick at 0x25e0918ed50>],\n",
       " [Text(2, 0, '2'),\n",
       "  Text(4, 0, '4'),\n",
       "  Text(5, 0, '5'),\n",
       "  Text(6, 0, '6'),\n",
       "  Text(8, 0, '8'),\n",
       "  Text(10, 0, '10')])"
      ]
     },
     "execution_count": 49,
     "metadata": {},
     "output_type": "execute_result"
    },
    {
     "data": {
      "image/png": "[encoded data removed]",
      "text/plain": [
       "<Figure size 500x500 with 1 Axes>"
      ]
     },
     "metadata": {},
     "output_type": "display_data"
    }
   ],
   "source": [
    "bins = [2,4,5,6,8,10]\n",
    "sb.displot(employees['years'], bins=bins, rug=True, kde=True)\n",
    "plt.xticks(bins)\n"
   ]
  }
 ],
 "metadata": {
  "kernelspec": {
   "display_name": "venv",
   "language": "python",
   "name": "python3"
  },
  "language_info": {
   "codemirror_mode": {
    "name": "ipython",
    "version": 3
   },
   "file_extension": ".py",
   "mimetype": "text/x-python",
   "name": "python",
   "nbconvert_exporter": "python",
   "pygments_lexer": "ipython3",
   "version": "3.13.1"
  }
 },
 "nbformat": 4,
 "nbformat_minor": 2
}
