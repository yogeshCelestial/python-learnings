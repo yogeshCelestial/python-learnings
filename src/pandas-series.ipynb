{
 "cells": [
  {
   "cell_type": "code",
   "execution_count": 25,
   "id": "af184a70-b39a-4c3f-b626-c1d2dc48c9c0",
   "metadata": {},
   "outputs": [],
   "source": [
    "import pandas as pd\n",
    "import numpy as np"
   ]
  },
  {
   "cell_type": "code",
   "execution_count": 6,
   "id": "f772f525-dcc1-459e-96e1-cbda24d0e12c",
   "metadata": {},
   "outputs": [
    {
     "name": "stdout",
     "output_type": "stream",
     "text": [
      "2.2.3\n"
     ]
    }
   ],
   "source": [
    "print(pd.__version__)"
   ]
  },
  {
   "cell_type": "code",
   "execution_count": 7,
   "id": "c9a2caae-93c1-4ceb-8a4c-f777666a276d",
   "metadata": {},
   "outputs": [
    {
     "data": {
      "text/plain": [
       "[1, 2, 3, 5, 5]"
      ]
     },
     "execution_count": 7,
     "metadata": {},
     "output_type": "execute_result"
    }
   ],
   "source": [
    "lst = [1,2,3,5,5]\n",
    "lst"
   ]
  },
  {
   "cell_type": "code",
   "execution_count": 10,
   "id": "ea79d013-2ef1-4e55-8344-54acbcb9e44f",
   "metadata": {},
   "outputs": [
    {
     "name": "stdout",
     "output_type": "stream",
     "text": [
      "0    1\n",
      "1    2\n",
      "2    3\n",
      "3    5\n",
      "4    5\n",
      "dtype: int64\n"
     ]
    },
    {
     "data": {
      "text/plain": [
       "pandas.core.series.Series"
      ]
     },
     "execution_count": 10,
     "metadata": {},
     "output_type": "execute_result"
    }
   ],
   "source": [
    "series = pd.Series(lst)\n",
    "print(series)\n",
    "type(series)"
   ]
  },
  {
   "cell_type": "code",
   "execution_count": 30,
   "id": "f1d29ea4-0cb0-4cba-9d02-67632eb07ebf",
   "metadata": {},
   "outputs": [
    {
     "data": {
      "text/plain": [
       "Series([], dtype: object)"
      ]
     },
     "execution_count": 30,
     "metadata": {},
     "output_type": "execute_result"
    }
   ],
   "source": [
    "empty = pd.Series([])\n",
    "empty\n"
   ]
  },
  {
   "cell_type": "code",
   "execution_count": 29,
   "id": "0d80b098-da45-47df-95b3-7deb9032c490",
   "metadata": {},
   "outputs": [
    {
     "data": {
      "text/plain": [
       "20    sachin\n",
       "21    ritika\n",
       "22     rahul\n",
       "23    yogesh\n",
       "dtype: object"
      ]
     },
     "execution_count": 29,
     "metadata": {},
     "output_type": "execute_result"
    }
   ],
   "source": [
    "str1 = ['sachin', 'ritika', 'rahul', 'yogesh']\n",
    "strPd = pd.Series(str1, index= [20, 21, 22, 23])\n",
    "strPd\n"
   ]
  },
  {
   "cell_type": "code",
   "execution_count": 23,
   "id": "128e0812",
   "metadata": {},
   "outputs": [
    {
     "name": "stdout",
     "output_type": "stream",
     "text": [
      "<class 'numpy.dtypes.ObjectDType'>\n"
     ]
    }
   ],
   "source": [
    "str2 = ['one', 'two', 'three', 'four']\n",
    "string = pd.Series(str2, name='Alpha')\n",
    "print(type(string.dtype))"
   ]
  },
  {
   "cell_type": "code",
   "execution_count": 26,
   "id": "8d9f5eb6",
   "metadata": {},
   "outputs": [
    {
     "data": {
      "text/plain": [
       "1    0.2\n",
       "2    0.2\n",
       "3    0.2\n",
       "4    0.2\n",
       "5    0.2\n",
       "6    0.2\n",
       "7    0.2\n",
       "8    0.2\n",
       "9    0.2\n",
       "dtype: float64"
      ]
     },
     "execution_count": 26,
     "metadata": {},
     "output_type": "execute_result"
    }
   ],
   "source": [
    "scalar_series = pd.Series(0.2, index = np.arange(1, 10))\n",
    "scalar_series"
   ]
  },
  {
   "cell_type": "code",
   "execution_count": 28,
   "id": "693ebca0",
   "metadata": {},
   "outputs": [
    {
     "data": {
      "text/plain": [
       "a     2\n",
       "b     3\n",
       "c     5\n",
       "d    50\n",
       "e    90\n",
       "dtype: int64"
      ]
     },
     "execution_count": 28,
     "metadata": {},
     "output_type": "execute_result"
    }
   ],
   "source": [
    "dct = { 'a': 2, 'b': 3, 'c': 5, 'd': 50, 'e': 90}\n",
    "dctPd = pd.Series(dct)\n",
    "dctPd"
   ]
  },
  {
   "cell_type": "code",
   "execution_count": 41,
   "id": "ee5bb230",
   "metadata": {},
   "outputs": [
    {
     "name": "stderr",
     "output_type": "stream",
     "text": [
      "C:\\Users\\yogesh\\AppData\\Local\\Temp\\ipykernel_11700\\3044451052.py:1: FutureWarning: Series.__getitem__ treating keys as positions is deprecated. In a future version, integer keys will always be treated as labels (consistent with DataFrame behavior). To access a value by position, use `ser.iloc[pos]`\n",
      "  bool(dctPd['d'] == dctPd[3])\n"
     ]
    },
    {
     "data": {
      "text/plain": [
       "True"
      ]
     },
     "execution_count": 41,
     "metadata": {},
     "output_type": "execute_result"
    }
   ],
   "source": [
    "bool(dctPd['d'] == dctPd[3])"
   ]
  },
  {
   "cell_type": "code",
   "execution_count": 44,
   "id": "59d955a0",
   "metadata": {},
   "outputs": [
    {
     "data": {
      "text/plain": [
       "a    2\n",
       "b    3\n",
       "c    5\n",
       "dtype: int64"
      ]
     },
     "execution_count": 44,
     "metadata": {},
     "output_type": "execute_result"
    }
   ],
   "source": [
    "dctPd[0:3]"
   ]
  },
  {
   "cell_type": "code",
   "execution_count": 47,
   "id": "6159cc30",
   "metadata": {},
   "outputs": [
    {
     "data": {
      "text/plain": [
       "a    b\n",
       "c    d\n",
       "e    f\n",
       "dtype: object"
      ]
     },
     "execution_count": 47,
     "metadata": {},
     "output_type": "execute_result"
    }
   ],
   "source": [
    "dct2 = { 'a': 'b', 'c': 'd', 'e': 'f'}\n",
    "dctPD = pd.Series(dct2)\n",
    "dctPD"
   ]
  },
  {
   "cell_type": "code",
   "execution_count": 54,
   "id": "87dadf28",
   "metadata": {},
   "outputs": [
    {
     "data": {
      "text/plain": [
       "p        [1, 2, 3, 4]\n",
       "q     [5, 6, 7, 8, 9]\n",
       "r    [10, 11, 12, 13]\n",
       "dtype: object"
      ]
     },
     "execution_count": 54,
     "metadata": {},
     "output_type": "execute_result"
    }
   ],
   "source": [
    "dct3 = {'p': np.arange(1, 5), 'q': np.arange(5, 10), 'r': np.arange(10, 14)}\n",
    "dctPD3 = pd.Series(dct3)\n",
    "dctPD3"
   ]
  },
  {
   "cell_type": "code",
   "execution_count": 56,
   "id": "1f706400",
   "metadata": {},
   "outputs": [
    {
     "data": {
      "text/plain": [
       "np.int64(7)"
      ]
     },
     "execution_count": 56,
     "metadata": {},
     "output_type": "execute_result"
    }
   ],
   "source": [
    "dctPD3['q'][2] # print 7"
   ]
  }
 ],
 "metadata": {
  "kernelspec": {
   "display_name": "Learing (venv)",
   "language": "python",
   "name": "venv"
  },
  "language_info": {
   "codemirror_mode": {
    "name": "ipython",
    "version": 3
   },
   "file_extension": ".py",
   "mimetype": "text/x-python",
   "name": "python",
   "nbconvert_exporter": "python",
   "pygments_lexer": "ipython3",
   "version": "3.13.1"
  }
 },
 "nbformat": 4,
 "nbformat_minor": 5
}
